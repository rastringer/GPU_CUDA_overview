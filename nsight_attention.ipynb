{
  "nbformat": 4,
  "nbformat_minor": 0,
  "metadata": {
    "colab": {
      "provenance": [],
      "gpuType": "T4",
      "authorship_tag": "ABX9TyN4BGc+hNowOU6BglitwmDo",
      "include_colab_link": true
    },
    "kernelspec": {
      "name": "python3",
      "display_name": "Python 3"
    },
    "language_info": {
      "name": "python"
    },
    "accelerator": "GPU"
  },
  "cells": [
    {
      "cell_type": "markdown",
      "metadata": {
        "id": "view-in-github",
        "colab_type": "text"
      },
      "source": [
        "<a href=\"https://colab.research.google.com/github/rastringer/GPU_CUDA_overview/blob/main/nsight_attention.ipynb\" target=\"_parent\"><img src=\"https://colab.research.google.com/assets/colab-badge.svg\" alt=\"Open In Colab\"/></a>"
      ]
    },
    {
      "cell_type": "code",
      "execution_count": null,
      "metadata": {
        "colab": {
          "base_uri": "https://localhost:8080/"
        },
        "id": "HqvurJQjgYEZ",
        "outputId": "450fcee8-b89f-44d1-f2d3-dccd84df3270"
      },
      "outputs": [
        {
          "output_type": "stream",
          "name": "stdout",
          "text": [
            "Get:1 https://cloud.r-project.org/bin/linux/ubuntu jammy-cran40/ InRelease [3,626 B]\n",
            "Get:2 https://developer.download.nvidia.com/compute/cuda/repos/ubuntu2204/x86_64  InRelease [1,581 B]\n",
            "Get:3 https://developer.download.nvidia.com/compute/cuda/repos/ubuntu2204/x86_64  Packages [1,001 kB]\n",
            "Get:4 http://security.ubuntu.com/ubuntu jammy-security InRelease [129 kB]\n",
            "Hit:5 http://archive.ubuntu.com/ubuntu jammy InRelease\n",
            "Get:6 http://archive.ubuntu.com/ubuntu jammy-updates InRelease [128 kB]\n",
            "Hit:7 https://ppa.launchpadcontent.net/deadsnakes/ppa/ubuntu jammy InRelease\n",
            "Ign:8 https://r2u.stat.illinois.edu/ubuntu jammy InRelease\n",
            "Hit:9 https://ppa.launchpadcontent.net/graphics-drivers/ppa/ubuntu jammy InRelease\n",
            "Get:10 https://r2u.stat.illinois.edu/ubuntu jammy Release [5,713 B]\n",
            "Get:11 http://security.ubuntu.com/ubuntu jammy-security/universe amd64 Packages [1,156 kB]\n",
            "Hit:12 https://ppa.launchpadcontent.net/ubuntugis/ppa/ubuntu jammy InRelease\n",
            "Get:13 https://r2u.stat.illinois.edu/ubuntu jammy Release.gpg [793 B]\n",
            "Get:14 http://archive.ubuntu.com/ubuntu jammy-backports InRelease [127 kB]\n",
            "Get:15 http://security.ubuntu.com/ubuntu jammy-security/main amd64 Packages [2,317 kB]\n",
            "Get:16 http://security.ubuntu.com/ubuntu jammy-security/restricted amd64 Packages [3,113 kB]\n",
            "Get:17 https://r2u.stat.illinois.edu/ubuntu jammy/main all Packages [8,348 kB]\n",
            "Get:18 http://archive.ubuntu.com/ubuntu jammy-updates/main amd64 Packages [2,593 kB]\n",
            "Get:19 http://archive.ubuntu.com/ubuntu jammy-updates/universe amd64 Packages [1,442 kB]\n",
            "Get:20 http://archive.ubuntu.com/ubuntu jammy-updates/restricted amd64 Packages [3,191 kB]\n",
            "Get:21 http://archive.ubuntu.com/ubuntu jammy-backports/main amd64 Packages [111 kB]\n",
            "Get:22 https://r2u.stat.illinois.edu/ubuntu jammy/main amd64 Packages [2,586 kB]\n",
            "Get:23 http://archive.ubuntu.com/ubuntu jammy-backports/universe amd64 Packages [36.9 kB]\n",
            "Fetched 26.3 MB in 5s (4,967 kB/s)\n",
            "Reading package lists...\n",
            "Building dependency tree...\n",
            "Reading state information...\n",
            "52 packages can be upgraded. Run 'apt list --upgradable' to see them.\n",
            "Reading package lists...\n",
            "Building dependency tree...\n",
            "Reading state information...\n",
            "gnupg is already the newest version (2.2.27-3ubuntu2.1).\n",
            "gnupg set to manually installed.\n",
            "0 upgraded, 0 newly installed, 0 to remove and 52 not upgraded.\n",
            "deb http://developer.download.nvidia.com/devtools/repos/ubuntu2204/amd64 /\n",
            "Executing: /tmp/apt-key-gpghome.TaKNyze2PF/gpg.1.sh --fetch-keys http://developer.download.nvidia.com/compute/cuda/repos/ubuntu1804/x86_64/7fa2af80.pub\n",
            "Hit:1 https://cloud.r-project.org/bin/linux/ubuntu jammy-cran40/ InRelease\n",
            "Hit:2 https://developer.download.nvidia.com/compute/cuda/repos/ubuntu2204/x86_64  InRelease\n",
            "Hit:3 http://security.ubuntu.com/ubuntu jammy-security InRelease\n",
            "Ign:4 http://developer.download.nvidia.com/devtools/repos/ubuntu2204/amd64  InRelease\n",
            "Get:5 http://developer.download.nvidia.com/devtools/repos/ubuntu2204/amd64  Release [496 B]\n",
            "Hit:6 http://archive.ubuntu.com/ubuntu jammy InRelease\n",
            "Get:7 http://developer.download.nvidia.com/devtools/repos/ubuntu2204/amd64  Release.gpg [833 B]\n",
            "Hit:8 http://archive.ubuntu.com/ubuntu jammy-updates InRelease\n",
            "Get:9 http://developer.download.nvidia.com/devtools/repos/ubuntu2204/amd64  Packages [13.9 kB]\n",
            "Hit:10 https://ppa.launchpadcontent.net/deadsnakes/ppa/ubuntu jammy InRelease\n",
            "Hit:11 https://ppa.launchpadcontent.net/graphics-drivers/ppa/ubuntu jammy InRelease\n",
            "Hit:12 http://archive.ubuntu.com/ubuntu jammy-backports InRelease\n",
            "Ign:13 https://r2u.stat.illinois.edu/ubuntu jammy InRelease\n",
            "Hit:14 https://ppa.launchpadcontent.net/ubuntugis/ppa/ubuntu jammy InRelease\n",
            "Hit:15 https://r2u.stat.illinois.edu/ubuntu jammy Release\n",
            "Fetched 15.2 kB in 1s (11.9 kB/s)\n",
            "Reading package lists...\n",
            "Building dependency tree...\n",
            "Reading state information...\n",
            "52 packages can be upgraded. Run 'apt list --upgradable' to see them.\n",
            "Reading package lists...\n",
            "Building dependency tree...\n",
            "Reading state information...\n",
            "The following additional packages will be installed:\n",
            "  nsight-systems-cli-2024.5.1\n",
            "The following NEW packages will be installed:\n",
            "  nsight-systems-cli nsight-systems-cli-2024.5.1\n",
            "0 upgraded, 2 newly installed, 0 to remove and 52 not upgraded.\n",
            "Need to get 139 MB of archives.\n",
            "After this operation, 0 B of additional disk space will be used.\n",
            "Get:1 http://developer.download.nvidia.com/devtools/repos/ubuntu2204/amd64  nsight-systems-cli-2024.5.1 2024.5.1.113-245134619542v0 [139 MB]\n",
            "Get:2 http://developer.download.nvidia.com/devtools/repos/ubuntu2204/amd64  nsight-systems-cli 2024.5.1.113 [2,008 B]\n",
            "Fetched 139 MB in 2s (74.4 MB/s)\n",
            "Selecting previously unselected package nsight-systems-cli-2024.5.1.\r\n",
            "(Reading database ... \r(Reading database ... 5%\r(Reading database ... 10%\r(Reading database ... 15%\r(Reading database ... 20%\r(Reading database ... 25%\r(Reading database ... 30%\r(Reading database ... 35%\r(Reading database ... 40%\r(Reading database ... 45%\r(Reading database ... 50%\r(Reading database ... 55%\r(Reading database ... 60%\r(Reading database ... 65%\r(Reading database ... 70%\r(Reading database ... 75%\r(Reading database ... 80%\r(Reading database ... 85%\r(Reading database ... 90%\r(Reading database ... 95%\r(Reading database ... 100%\r(Reading database ... 123605 files and directories currently installed.)\r\n",
            "Preparing to unpack .../nsight-systems-cli-2024.5.1_2024.5.1.113-245134619542v0_amd64.deb ...\r\n",
            "Unpacking nsight-systems-cli-2024.5.1 (2024.5.1.113-245134619542v0) ...\r\n",
            "Selecting previously unselected package nsight-systems-cli.\r\n",
            "Preparing to unpack .../nsight-systems-cli_2024.5.1.113_amd64.deb ...\r\n",
            "Unpacking nsight-systems-cli (2024.5.1.113) ...\r\n",
            "Setting up nsight-systems-cli-2024.5.1 (2024.5.1.113-245134619542v0) ...\r\n",
            "update-alternatives: using /opt/nvidia/nsight-systems-cli/2024.5.1/target-linux-x64/nsys to provide /usr/local/bin/nsys (nsys) in auto mode\r\n",
            "Setting up nsight-systems-cli (2024.5.1.113) ...\r\n"
          ]
        },
        {
          "output_type": "stream",
          "name": "stderr",
          "text": [
            "\n",
            "WARNING: apt does not have a stable CLI interface. Use with caution in scripts.\n",
            "\n",
            "W: Skipping acquire of configured file 'main/source/Sources' as repository 'https://r2u.stat.illinois.edu/ubuntu jammy InRelease' does not seem to provide it (sources.list entry misspelt?)\n",
            "\n",
            "WARNING: apt does not have a stable CLI interface. Use with caution in scripts.\n",
            "\n",
            "Warning: apt-key is deprecated. Manage keyring files in trusted.gpg.d instead (see apt-key(8)).\n",
            "gpg: requesting key from 'http://developer.download.nvidia.com/compute/cuda/repos/ubuntu1804/x86_64/7fa2af80.pub'\n",
            "gpg: key F60F4B3D7FA2AF80: public key \"cudatools <cudatools@nvidia.com>\" imported\n",
            "gpg: Total number processed: 1\n",
            "gpg:               imported: 1\n",
            "\n",
            "WARNING: apt does not have a stable CLI interface. Use with caution in scripts.\n",
            "\n",
            "W: http://developer.download.nvidia.com/devtools/repos/ubuntu2204/amd64/Release.gpg: Key is stored in legacy trusted.gpg keyring (/etc/apt/trusted.gpg), see the DEPRECATION section in apt-key(8) for details.\n",
            "W: Skipping acquire of configured file 'main/source/Sources' as repository 'https://r2u.stat.illinois.edu/ubuntu jammy InRelease' does not seem to provide it (sources.list entry misspelt?)\n",
            "\n",
            "WARNING: apt does not have a stable CLI interface. Use with caution in scripts.\n",
            "\n"
          ]
        }
      ],
      "source": []
    },
    {
      "cell_type": "code",
      "source": [
        "!pip install jupyterlab-nvidia-nsight"
      ],
      "metadata": {
        "colab": {
          "base_uri": "https://localhost:8080/"
        },
        "id": "ReK5UThKCEQV",
        "outputId": "401fb542-ffe6-4d79-edf7-d1da86865a69"
      },
      "execution_count": null,
      "outputs": [
        {
          "output_type": "stream",
          "name": "stdout",
          "text": [
            "Collecting jupyterlab-nvidia-nsight\n",
            "  Downloading jupyterlab_nvidia_nsight-0.6.0-py3-none-any.whl.metadata (7.5 kB)\n",
            "Collecting docker (from jupyterlab-nvidia-nsight)\n",
            "  Downloading docker-7.1.0-py3-none-any.whl.metadata (3.8 kB)\n",
            "Collecting jupyter-server<3,>=2.0.1 (from jupyterlab-nvidia-nsight)\n",
            "  Downloading jupyter_server-2.14.2-py3-none-any.whl.metadata (8.4 kB)\n",
            "Requirement already satisfied: anyio>=3.1.0 in /usr/local/lib/python3.10/dist-packages (from jupyter-server<3,>=2.0.1->jupyterlab-nvidia-nsight) (3.7.1)\n",
            "Requirement already satisfied: argon2-cffi>=21.1 in /usr/local/lib/python3.10/dist-packages (from jupyter-server<3,>=2.0.1->jupyterlab-nvidia-nsight) (23.1.0)\n",
            "Requirement already satisfied: jinja2>=3.0.3 in /usr/local/lib/python3.10/dist-packages (from jupyter-server<3,>=2.0.1->jupyterlab-nvidia-nsight) (3.1.4)\n",
            "Collecting jupyter-client>=7.4.4 (from jupyter-server<3,>=2.0.1->jupyterlab-nvidia-nsight)\n",
            "  Downloading jupyter_client-8.6.3-py3-none-any.whl.metadata (8.3 kB)\n",
            "Requirement already satisfied: jupyter-core!=5.0.*,>=4.12 in /usr/local/lib/python3.10/dist-packages (from jupyter-server<3,>=2.0.1->jupyterlab-nvidia-nsight) (5.7.2)\n",
            "Collecting jupyter-events>=0.9.0 (from jupyter-server<3,>=2.0.1->jupyterlab-nvidia-nsight)\n",
            "  Downloading jupyter_events-0.10.0-py3-none-any.whl.metadata (5.9 kB)\n",
            "Collecting jupyter-server-terminals>=0.4.4 (from jupyter-server<3,>=2.0.1->jupyterlab-nvidia-nsight)\n",
            "  Downloading jupyter_server_terminals-0.5.3-py3-none-any.whl.metadata (5.6 kB)\n",
            "Requirement already satisfied: nbconvert>=6.4.4 in /usr/local/lib/python3.10/dist-packages (from jupyter-server<3,>=2.0.1->jupyterlab-nvidia-nsight) (6.5.4)\n",
            "Requirement already satisfied: nbformat>=5.3.0 in /usr/local/lib/python3.10/dist-packages (from jupyter-server<3,>=2.0.1->jupyterlab-nvidia-nsight) (5.10.4)\n",
            "Collecting overrides>=5.0 (from jupyter-server<3,>=2.0.1->jupyterlab-nvidia-nsight)\n",
            "  Downloading overrides-7.7.0-py3-none-any.whl.metadata (5.8 kB)\n",
            "Requirement already satisfied: packaging>=22.0 in /usr/local/lib/python3.10/dist-packages (from jupyter-server<3,>=2.0.1->jupyterlab-nvidia-nsight) (24.1)\n",
            "Requirement already satisfied: prometheus-client>=0.9 in /usr/local/lib/python3.10/dist-packages (from jupyter-server<3,>=2.0.1->jupyterlab-nvidia-nsight) (0.21.0)\n",
            "Requirement already satisfied: pyzmq>=24 in /usr/local/lib/python3.10/dist-packages (from jupyter-server<3,>=2.0.1->jupyterlab-nvidia-nsight) (24.0.1)\n",
            "Requirement already satisfied: send2trash>=1.8.2 in /usr/local/lib/python3.10/dist-packages (from jupyter-server<3,>=2.0.1->jupyterlab-nvidia-nsight) (1.8.3)\n",
            "Requirement already satisfied: terminado>=0.8.3 in /usr/local/lib/python3.10/dist-packages (from jupyter-server<3,>=2.0.1->jupyterlab-nvidia-nsight) (0.18.1)\n",
            "Requirement already satisfied: tornado>=6.2.0 in /usr/local/lib/python3.10/dist-packages (from jupyter-server<3,>=2.0.1->jupyterlab-nvidia-nsight) (6.3.3)\n",
            "Requirement already satisfied: traitlets>=5.6.0 in /usr/local/lib/python3.10/dist-packages (from jupyter-server<3,>=2.0.1->jupyterlab-nvidia-nsight) (5.7.1)\n",
            "Requirement already satisfied: websocket-client>=1.7 in /usr/local/lib/python3.10/dist-packages (from jupyter-server<3,>=2.0.1->jupyterlab-nvidia-nsight) (1.8.0)\n",
            "Requirement already satisfied: requests>=2.26.0 in /usr/local/lib/python3.10/dist-packages (from docker->jupyterlab-nvidia-nsight) (2.32.3)\n",
            "Requirement already satisfied: urllib3>=1.26.0 in /usr/local/lib/python3.10/dist-packages (from docker->jupyterlab-nvidia-nsight) (2.2.3)\n",
            "Requirement already satisfied: idna>=2.8 in /usr/local/lib/python3.10/dist-packages (from anyio>=3.1.0->jupyter-server<3,>=2.0.1->jupyterlab-nvidia-nsight) (3.10)\n",
            "Requirement already satisfied: sniffio>=1.1 in /usr/local/lib/python3.10/dist-packages (from anyio>=3.1.0->jupyter-server<3,>=2.0.1->jupyterlab-nvidia-nsight) (1.3.1)\n",
            "Requirement already satisfied: exceptiongroup in /usr/local/lib/python3.10/dist-packages (from anyio>=3.1.0->jupyter-server<3,>=2.0.1->jupyterlab-nvidia-nsight) (1.2.2)\n",
            "Requirement already satisfied: argon2-cffi-bindings in /usr/local/lib/python3.10/dist-packages (from argon2-cffi>=21.1->jupyter-server<3,>=2.0.1->jupyterlab-nvidia-nsight) (21.2.0)\n",
            "Requirement already satisfied: MarkupSafe>=2.0 in /usr/local/lib/python3.10/dist-packages (from jinja2>=3.0.3->jupyter-server<3,>=2.0.1->jupyterlab-nvidia-nsight) (2.1.5)\n",
            "Requirement already satisfied: python-dateutil>=2.8.2 in /usr/local/lib/python3.10/dist-packages (from jupyter-client>=7.4.4->jupyter-server<3,>=2.0.1->jupyterlab-nvidia-nsight) (2.8.2)\n",
            "Requirement already satisfied: platformdirs>=2.5 in /usr/local/lib/python3.10/dist-packages (from jupyter-core!=5.0.*,>=4.12->jupyter-server<3,>=2.0.1->jupyterlab-nvidia-nsight) (4.3.6)\n",
            "Requirement already satisfied: jsonschema>=4.18.0 in /usr/local/lib/python3.10/dist-packages (from jsonschema[format-nongpl]>=4.18.0->jupyter-events>=0.9.0->jupyter-server<3,>=2.0.1->jupyterlab-nvidia-nsight) (4.23.0)\n",
            "Collecting python-json-logger>=2.0.4 (from jupyter-events>=0.9.0->jupyter-server<3,>=2.0.1->jupyterlab-nvidia-nsight)\n",
            "  Downloading python_json_logger-2.0.7-py3-none-any.whl.metadata (6.5 kB)\n",
            "Requirement already satisfied: pyyaml>=5.3 in /usr/local/lib/python3.10/dist-packages (from jupyter-events>=0.9.0->jupyter-server<3,>=2.0.1->jupyterlab-nvidia-nsight) (6.0.2)\n",
            "Requirement already satisfied: referencing in /usr/local/lib/python3.10/dist-packages (from jupyter-events>=0.9.0->jupyter-server<3,>=2.0.1->jupyterlab-nvidia-nsight) (0.35.1)\n",
            "Collecting rfc3339-validator (from jupyter-events>=0.9.0->jupyter-server<3,>=2.0.1->jupyterlab-nvidia-nsight)\n",
            "  Downloading rfc3339_validator-0.1.4-py2.py3-none-any.whl.metadata (1.5 kB)\n",
            "Collecting rfc3986-validator>=0.1.1 (from jupyter-events>=0.9.0->jupyter-server<3,>=2.0.1->jupyterlab-nvidia-nsight)\n",
            "  Downloading rfc3986_validator-0.1.1-py2.py3-none-any.whl.metadata (1.7 kB)\n",
            "Requirement already satisfied: lxml in /usr/local/lib/python3.10/dist-packages (from nbconvert>=6.4.4->jupyter-server<3,>=2.0.1->jupyterlab-nvidia-nsight) (4.9.4)\n",
            "Requirement already satisfied: beautifulsoup4 in /usr/local/lib/python3.10/dist-packages (from nbconvert>=6.4.4->jupyter-server<3,>=2.0.1->jupyterlab-nvidia-nsight) (4.12.3)\n",
            "Requirement already satisfied: bleach in /usr/local/lib/python3.10/dist-packages (from nbconvert>=6.4.4->jupyter-server<3,>=2.0.1->jupyterlab-nvidia-nsight) (6.1.0)\n",
            "Requirement already satisfied: defusedxml in /usr/local/lib/python3.10/dist-packages (from nbconvert>=6.4.4->jupyter-server<3,>=2.0.1->jupyterlab-nvidia-nsight) (0.7.1)\n",
            "Requirement already satisfied: entrypoints>=0.2.2 in /usr/local/lib/python3.10/dist-packages (from nbconvert>=6.4.4->jupyter-server<3,>=2.0.1->jupyterlab-nvidia-nsight) (0.4)\n",
            "Requirement already satisfied: jupyterlab-pygments in /usr/local/lib/python3.10/dist-packages (from nbconvert>=6.4.4->jupyter-server<3,>=2.0.1->jupyterlab-nvidia-nsight) (0.3.0)\n",
            "Requirement already satisfied: mistune<2,>=0.8.1 in /usr/local/lib/python3.10/dist-packages (from nbconvert>=6.4.4->jupyter-server<3,>=2.0.1->jupyterlab-nvidia-nsight) (0.8.4)\n",
            "Requirement already satisfied: nbclient>=0.5.0 in /usr/local/lib/python3.10/dist-packages (from nbconvert>=6.4.4->jupyter-server<3,>=2.0.1->jupyterlab-nvidia-nsight) (0.10.0)\n",
            "Requirement already satisfied: pandocfilters>=1.4.1 in /usr/local/lib/python3.10/dist-packages (from nbconvert>=6.4.4->jupyter-server<3,>=2.0.1->jupyterlab-nvidia-nsight) (1.5.1)\n",
            "Requirement already satisfied: pygments>=2.4.1 in /usr/local/lib/python3.10/dist-packages (from nbconvert>=6.4.4->jupyter-server<3,>=2.0.1->jupyterlab-nvidia-nsight) (2.18.0)\n",
            "Requirement already satisfied: tinycss2 in /usr/local/lib/python3.10/dist-packages (from nbconvert>=6.4.4->jupyter-server<3,>=2.0.1->jupyterlab-nvidia-nsight) (1.3.0)\n",
            "Requirement already satisfied: fastjsonschema>=2.15 in /usr/local/lib/python3.10/dist-packages (from nbformat>=5.3.0->jupyter-server<3,>=2.0.1->jupyterlab-nvidia-nsight) (2.20.0)\n",
            "Requirement already satisfied: charset-normalizer<4,>=2 in /usr/local/lib/python3.10/dist-packages (from requests>=2.26.0->docker->jupyterlab-nvidia-nsight) (3.3.2)\n",
            "Requirement already satisfied: certifi>=2017.4.17 in /usr/local/lib/python3.10/dist-packages (from requests>=2.26.0->docker->jupyterlab-nvidia-nsight) (2024.8.30)\n",
            "Requirement already satisfied: ptyprocess in /usr/local/lib/python3.10/dist-packages (from terminado>=0.8.3->jupyter-server<3,>=2.0.1->jupyterlab-nvidia-nsight) (0.7.0)\n",
            "Requirement already satisfied: attrs>=22.2.0 in /usr/local/lib/python3.10/dist-packages (from jsonschema>=4.18.0->jsonschema[format-nongpl]>=4.18.0->jupyter-events>=0.9.0->jupyter-server<3,>=2.0.1->jupyterlab-nvidia-nsight) (24.2.0)\n",
            "Requirement already satisfied: jsonschema-specifications>=2023.03.6 in /usr/local/lib/python3.10/dist-packages (from jsonschema>=4.18.0->jsonschema[format-nongpl]>=4.18.0->jupyter-events>=0.9.0->jupyter-server<3,>=2.0.1->jupyterlab-nvidia-nsight) (2023.12.1)\n",
            "Requirement already satisfied: rpds-py>=0.7.1 in /usr/local/lib/python3.10/dist-packages (from jsonschema>=4.18.0->jsonschema[format-nongpl]>=4.18.0->jupyter-events>=0.9.0->jupyter-server<3,>=2.0.1->jupyterlab-nvidia-nsight) (0.20.0)\n",
            "Collecting fqdn (from jsonschema[format-nongpl]>=4.18.0->jupyter-events>=0.9.0->jupyter-server<3,>=2.0.1->jupyterlab-nvidia-nsight)\n",
            "  Downloading fqdn-1.5.1-py3-none-any.whl.metadata (1.4 kB)\n",
            "Collecting isoduration (from jsonschema[format-nongpl]>=4.18.0->jupyter-events>=0.9.0->jupyter-server<3,>=2.0.1->jupyterlab-nvidia-nsight)\n",
            "  Downloading isoduration-20.11.0-py3-none-any.whl.metadata (5.7 kB)\n",
            "Collecting jsonpointer>1.13 (from jsonschema[format-nongpl]>=4.18.0->jupyter-events>=0.9.0->jupyter-server<3,>=2.0.1->jupyterlab-nvidia-nsight)\n",
            "  Downloading jsonpointer-3.0.0-py2.py3-none-any.whl.metadata (2.3 kB)\n",
            "Collecting uri-template (from jsonschema[format-nongpl]>=4.18.0->jupyter-events>=0.9.0->jupyter-server<3,>=2.0.1->jupyterlab-nvidia-nsight)\n",
            "  Downloading uri_template-1.3.0-py3-none-any.whl.metadata (8.8 kB)\n",
            "Requirement already satisfied: webcolors>=24.6.0 in /usr/local/lib/python3.10/dist-packages (from jsonschema[format-nongpl]>=4.18.0->jupyter-events>=0.9.0->jupyter-server<3,>=2.0.1->jupyterlab-nvidia-nsight) (24.8.0)\n",
            "Requirement already satisfied: six>=1.5 in /usr/local/lib/python3.10/dist-packages (from python-dateutil>=2.8.2->jupyter-client>=7.4.4->jupyter-server<3,>=2.0.1->jupyterlab-nvidia-nsight) (1.16.0)\n",
            "Requirement already satisfied: cffi>=1.0.1 in /usr/local/lib/python3.10/dist-packages (from argon2-cffi-bindings->argon2-cffi>=21.1->jupyter-server<3,>=2.0.1->jupyterlab-nvidia-nsight) (1.17.1)\n",
            "Requirement already satisfied: soupsieve>1.2 in /usr/local/lib/python3.10/dist-packages (from beautifulsoup4->nbconvert>=6.4.4->jupyter-server<3,>=2.0.1->jupyterlab-nvidia-nsight) (2.6)\n",
            "Requirement already satisfied: webencodings in /usr/local/lib/python3.10/dist-packages (from bleach->nbconvert>=6.4.4->jupyter-server<3,>=2.0.1->jupyterlab-nvidia-nsight) (0.5.1)\n",
            "Requirement already satisfied: pycparser in /usr/local/lib/python3.10/dist-packages (from cffi>=1.0.1->argon2-cffi-bindings->argon2-cffi>=21.1->jupyter-server<3,>=2.0.1->jupyterlab-nvidia-nsight) (2.22)\n",
            "Collecting arrow>=0.15.0 (from isoduration->jsonschema[format-nongpl]>=4.18.0->jupyter-events>=0.9.0->jupyter-server<3,>=2.0.1->jupyterlab-nvidia-nsight)\n",
            "  Downloading arrow-1.3.0-py3-none-any.whl.metadata (7.5 kB)\n",
            "Collecting types-python-dateutil>=2.8.10 (from arrow>=0.15.0->isoduration->jsonschema[format-nongpl]>=4.18.0->jupyter-events>=0.9.0->jupyter-server<3,>=2.0.1->jupyterlab-nvidia-nsight)\n",
            "  Downloading types_python_dateutil-2.9.0.20240906-py3-none-any.whl.metadata (1.9 kB)\n",
            "Downloading jupyterlab_nvidia_nsight-0.6.0-py3-none-any.whl (57 kB)\n",
            "\u001b[2K   \u001b[90m━━━━━━━━━━━━━━━━━━━━━━━━━━━━━━━━━━━━━━━━\u001b[0m \u001b[32m58.0/58.0 kB\u001b[0m \u001b[31m5.8 MB/s\u001b[0m eta \u001b[36m0:00:00\u001b[0m\n",
            "\u001b[?25hDownloading jupyter_server-2.14.2-py3-none-any.whl (383 kB)\n",
            "\u001b[2K   \u001b[90m━━━━━━━━━━━━━━━━━━━━━━━━━━━━━━━━━━━━━━━━\u001b[0m \u001b[32m383.6/383.6 kB\u001b[0m \u001b[31m26.5 MB/s\u001b[0m eta \u001b[36m0:00:00\u001b[0m\n",
            "\u001b[?25hDownloading docker-7.1.0-py3-none-any.whl (147 kB)\n",
            "\u001b[2K   \u001b[90m━━━━━━━━━━━━━━━━━━━━━━━━━━━━━━━━━━━━━━━━\u001b[0m \u001b[32m147.8/147.8 kB\u001b[0m \u001b[31m15.4 MB/s\u001b[0m eta \u001b[36m0:00:00\u001b[0m\n",
            "\u001b[?25hDownloading jupyter_client-8.6.3-py3-none-any.whl (106 kB)\n",
            "\u001b[2K   \u001b[90m━━━━━━━━━━━━━━━━━━━━━━━━━━━━━━━━━━━━━━━━\u001b[0m \u001b[32m106.1/106.1 kB\u001b[0m \u001b[31m10.5 MB/s\u001b[0m eta \u001b[36m0:00:00\u001b[0m\n",
            "\u001b[?25hDownloading jupyter_events-0.10.0-py3-none-any.whl (18 kB)\n",
            "Downloading jupyter_server_terminals-0.5.3-py3-none-any.whl (13 kB)\n",
            "Downloading overrides-7.7.0-py3-none-any.whl (17 kB)\n",
            "Downloading python_json_logger-2.0.7-py3-none-any.whl (8.1 kB)\n",
            "Downloading rfc3986_validator-0.1.1-py2.py3-none-any.whl (4.2 kB)\n",
            "Downloading rfc3339_validator-0.1.4-py2.py3-none-any.whl (3.5 kB)\n",
            "Downloading jsonpointer-3.0.0-py2.py3-none-any.whl (7.6 kB)\n",
            "Downloading fqdn-1.5.1-py3-none-any.whl (9.1 kB)\n",
            "Downloading isoduration-20.11.0-py3-none-any.whl (11 kB)\n",
            "Downloading uri_template-1.3.0-py3-none-any.whl (11 kB)\n",
            "Downloading arrow-1.3.0-py3-none-any.whl (66 kB)\n",
            "\u001b[2K   \u001b[90m━━━━━━━━━━━━━━━━━━━━━━━━━━━━━━━━━━━━━━━━\u001b[0m \u001b[32m66.4/66.4 kB\u001b[0m \u001b[31m7.8 MB/s\u001b[0m eta \u001b[36m0:00:00\u001b[0m\n",
            "\u001b[?25hDownloading types_python_dateutil-2.9.0.20240906-py3-none-any.whl (9.7 kB)\n",
            "Installing collected packages: uri-template, types-python-dateutil, rfc3986-validator, rfc3339-validator, python-json-logger, overrides, jsonpointer, fqdn, jupyter-server-terminals, jupyter-client, docker, arrow, isoduration, jupyter-events, jupyter-server, jupyterlab-nvidia-nsight\n",
            "  Attempting uninstall: jupyter-client\n",
            "    Found existing installation: jupyter-client 6.1.12\n",
            "    Uninstalling jupyter-client-6.1.12:\n",
            "      Successfully uninstalled jupyter-client-6.1.12\n",
            "  Attempting uninstall: jupyter-server\n",
            "    Found existing installation: jupyter-server 1.24.0\n",
            "    Uninstalling jupyter-server-1.24.0:\n",
            "      Successfully uninstalled jupyter-server-1.24.0\n",
            "\u001b[31mERROR: pip's dependency resolver does not currently take into account all the packages that are installed. This behaviour is the source of the following dependency conflicts.\n",
            "notebook 6.5.5 requires jupyter-client<8,>=5.3.4, but you have jupyter-client 8.6.3 which is incompatible.\u001b[0m\u001b[31m\n",
            "\u001b[0mSuccessfully installed arrow-1.3.0 docker-7.1.0 fqdn-1.5.1 isoduration-20.11.0 jsonpointer-3.0.0 jupyter-client-8.6.3 jupyter-events-0.10.0 jupyter-server-2.14.2 jupyter-server-terminals-0.5.3 jupyterlab-nvidia-nsight-0.6.0 overrides-7.7.0 python-json-logger-2.0.7 rfc3339-validator-0.1.4 rfc3986-validator-0.1.1 types-python-dateutil-2.9.0.20240906 uri-template-1.3.0\n"
          ]
        }
      ]
    },
    {
      "cell_type": "markdown",
      "source": [
        "### Install Nsight tools\n",
        "\n",
        "Since Colabs are essentially a linux-based virtual machine, we can use `apt get` to install the Nvidia tools"
      ],
      "metadata": {
        "id": "5J9j9COaZDd4"
      }
    },
    {
      "cell_type": "code",
      "source": [
        "%%bash\n",
        "\n",
        "apt update\n",
        "apt install -y --no-install-recommends gnupg\n",
        "echo \"deb http://developer.download.nvidia.com/devtools/repos/ubuntu$(source /etc/lsb-release; echo \"$DISTRIB_RELEASE\" | tr -d .)/$(dpkg --print-architecture) /\" | tee /etc/apt/sources.list.d/nvidia-devtools.list\n",
        "apt-key adv --fetch-keys http://developer.download.nvidia.com/compute/cuda/repos/ubuntu1804/x86_64/7fa2af80.pub\n",
        "apt update\n",
        "apt install nsight-systems-cli"
      ],
      "metadata": {
        "colab": {
          "base_uri": "https://localhost:8080/"
        },
        "id": "371v-b2SZY2r",
        "outputId": "868a4d5e-086c-4806-da71-e4fd4296cef2"
      },
      "execution_count": null,
      "outputs": [
        {
          "output_type": "stream",
          "name": "stdout",
          "text": [
            "Get:1 https://cloud.r-project.org/bin/linux/ubuntu jammy-cran40/ InRelease [3,626 B]\n",
            "Get:2 https://developer.download.nvidia.com/compute/cuda/repos/ubuntu2204/x86_64  InRelease [1,581 B]\n",
            "Get:3 http://security.ubuntu.com/ubuntu jammy-security InRelease [129 kB]\n",
            "Get:4 https://developer.download.nvidia.com/compute/cuda/repos/ubuntu2204/x86_64  Packages [1,001 kB]\n",
            "Hit:5 http://archive.ubuntu.com/ubuntu jammy InRelease\n",
            "Hit:6 https://ppa.launchpadcontent.net/deadsnakes/ppa/ubuntu jammy InRelease\n",
            "Hit:7 https://ppa.launchpadcontent.net/graphics-drivers/ppa/ubuntu jammy InRelease\n",
            "Get:8 http://archive.ubuntu.com/ubuntu jammy-updates InRelease [128 kB]\n",
            "Hit:9 https://ppa.launchpadcontent.net/ubuntugis/ppa/ubuntu jammy InRelease\n",
            "Ign:10 https://r2u.stat.illinois.edu/ubuntu jammy InRelease\n",
            "Get:11 https://r2u.stat.illinois.edu/ubuntu jammy Release [5,713 B]\n",
            "Get:12 http://security.ubuntu.com/ubuntu jammy-security/restricted amd64 Packages [3,113 kB]\n",
            "Get:13 https://r2u.stat.illinois.edu/ubuntu jammy Release.gpg [793 B]\n",
            "Get:14 http://archive.ubuntu.com/ubuntu jammy-backports InRelease [127 kB]\n",
            "Get:15 https://r2u.stat.illinois.edu/ubuntu jammy/main all Packages [8,348 kB]\n",
            "Get:16 http://archive.ubuntu.com/ubuntu jammy-updates/universe amd64 Packages [1,444 kB]\n",
            "Get:17 http://security.ubuntu.com/ubuntu jammy-security/universe amd64 Packages [1,156 kB]\n",
            "Get:18 http://security.ubuntu.com/ubuntu jammy-security/main amd64 Packages [2,317 kB]\n",
            "Get:19 http://archive.ubuntu.com/ubuntu jammy-updates/main amd64 Packages [2,594 kB]\n",
            "Get:20 http://archive.ubuntu.com/ubuntu jammy-updates/restricted amd64 Packages [3,191 kB]\n",
            "Get:21 http://archive.ubuntu.com/ubuntu jammy-backports/main amd64 Packages [111 kB]\n",
            "Get:22 http://archive.ubuntu.com/ubuntu jammy-backports/universe amd64 Packages [36.9 kB]\n",
            "Get:23 https://r2u.stat.illinois.edu/ubuntu jammy/main amd64 Packages [2,586 kB]\n",
            "Fetched 26.3 MB in 5s (5,306 kB/s)\n",
            "Reading package lists...\n",
            "Building dependency tree...\n",
            "Reading state information...\n",
            "52 packages can be upgraded. Run 'apt list --upgradable' to see them.\n",
            "Reading package lists...\n",
            "Building dependency tree...\n",
            "Reading state information...\n",
            "gnupg is already the newest version (2.2.27-3ubuntu2.1).\n",
            "gnupg set to manually installed.\n",
            "0 upgraded, 0 newly installed, 0 to remove and 52 not upgraded.\n",
            "deb http://developer.download.nvidia.com/devtools/repos/ubuntu2204/amd64 /\n",
            "Executing: /tmp/apt-key-gpghome.qMXiGF7Ucd/gpg.1.sh --fetch-keys http://developer.download.nvidia.com/compute/cuda/repos/ubuntu1804/x86_64/7fa2af80.pub\n",
            "Hit:1 https://cloud.r-project.org/bin/linux/ubuntu jammy-cran40/ InRelease\n",
            "Hit:2 https://developer.download.nvidia.com/compute/cuda/repos/ubuntu2204/x86_64  InRelease\n",
            "Hit:3 http://archive.ubuntu.com/ubuntu jammy InRelease\n",
            "Hit:4 http://security.ubuntu.com/ubuntu jammy-security InRelease\n",
            "Ign:5 http://developer.download.nvidia.com/devtools/repos/ubuntu2204/amd64  InRelease\n",
            "Get:6 http://developer.download.nvidia.com/devtools/repos/ubuntu2204/amd64  Release [496 B]\n",
            "Get:7 http://developer.download.nvidia.com/devtools/repos/ubuntu2204/amd64  Release.gpg [833 B]\n",
            "Hit:8 http://archive.ubuntu.com/ubuntu jammy-updates InRelease\n",
            "Hit:9 https://ppa.launchpadcontent.net/deadsnakes/ppa/ubuntu jammy InRelease\n",
            "Get:10 http://developer.download.nvidia.com/devtools/repos/ubuntu2204/amd64  Packages [13.9 kB]\n",
            "Hit:11 https://ppa.launchpadcontent.net/graphics-drivers/ppa/ubuntu jammy InRelease\n",
            "Hit:12 http://archive.ubuntu.com/ubuntu jammy-backports InRelease\n",
            "Ign:13 https://r2u.stat.illinois.edu/ubuntu jammy InRelease\n",
            "Hit:14 https://ppa.launchpadcontent.net/ubuntugis/ppa/ubuntu jammy InRelease\n",
            "Hit:15 https://r2u.stat.illinois.edu/ubuntu jammy Release\n",
            "Fetched 15.2 kB in 1s (10.8 kB/s)\n",
            "Reading package lists...\n",
            "Building dependency tree...\n",
            "Reading state information...\n",
            "52 packages can be upgraded. Run 'apt list --upgradable' to see them.\n",
            "Reading package lists...\n",
            "Building dependency tree...\n",
            "Reading state information...\n",
            "The following additional packages will be installed:\n",
            "  nsight-systems-cli-2024.5.1\n",
            "The following NEW packages will be installed:\n",
            "  nsight-systems-cli nsight-systems-cli-2024.5.1\n",
            "0 upgraded, 2 newly installed, 0 to remove and 52 not upgraded.\n",
            "Need to get 139 MB of archives.\n",
            "After this operation, 0 B of additional disk space will be used.\n",
            "Get:1 http://developer.download.nvidia.com/devtools/repos/ubuntu2204/amd64  nsight-systems-cli-2024.5.1 2024.5.1.113-245134619542v0 [139 MB]\n",
            "Get:2 http://developer.download.nvidia.com/devtools/repos/ubuntu2204/amd64  nsight-systems-cli 2024.5.1.113 [2,008 B]\n",
            "Fetched 139 MB in 1s (96.9 MB/s)\n",
            "Selecting previously unselected package nsight-systems-cli-2024.5.1.\r\n",
            "(Reading database ... \r(Reading database ... 5%\r(Reading database ... 10%\r(Reading database ... 15%\r(Reading database ... 20%\r(Reading database ... 25%\r(Reading database ... 30%\r(Reading database ... 35%\r(Reading database ... 40%\r(Reading database ... 45%\r(Reading database ... 50%\r(Reading database ... 55%\r(Reading database ... 60%\r(Reading database ... 65%\r(Reading database ... 70%\r(Reading database ... 75%\r(Reading database ... 80%\r(Reading database ... 85%\r(Reading database ... 90%\r(Reading database ... 95%\r(Reading database ... 100%\r(Reading database ... 123605 files and directories currently installed.)\r\n",
            "Preparing to unpack .../nsight-systems-cli-2024.5.1_2024.5.1.113-245134619542v0_amd64.deb ...\r\n",
            "Unpacking nsight-systems-cli-2024.5.1 (2024.5.1.113-245134619542v0) ...\r\n",
            "Selecting previously unselected package nsight-systems-cli.\r\n",
            "Preparing to unpack .../nsight-systems-cli_2024.5.1.113_amd64.deb ...\r\n",
            "Unpacking nsight-systems-cli (2024.5.1.113) ...\r\n",
            "Setting up nsight-systems-cli-2024.5.1 (2024.5.1.113-245134619542v0) ...\r\n",
            "update-alternatives: using /opt/nvidia/nsight-systems-cli/2024.5.1/target-linux-x64/nsys to provide /usr/local/bin/nsys (nsys) in auto mode\r\n",
            "Setting up nsight-systems-cli (2024.5.1.113) ...\r\n"
          ]
        },
        {
          "output_type": "stream",
          "name": "stderr",
          "text": [
            "\n",
            "WARNING: apt does not have a stable CLI interface. Use with caution in scripts.\n",
            "\n",
            "W: Skipping acquire of configured file 'main/source/Sources' as repository 'https://r2u.stat.illinois.edu/ubuntu jammy InRelease' does not seem to provide it (sources.list entry misspelt?)\n",
            "\n",
            "WARNING: apt does not have a stable CLI interface. Use with caution in scripts.\n",
            "\n",
            "Warning: apt-key is deprecated. Manage keyring files in trusted.gpg.d instead (see apt-key(8)).\n",
            "gpg: requesting key from 'http://developer.download.nvidia.com/compute/cuda/repos/ubuntu1804/x86_64/7fa2af80.pub'\n",
            "gpg: key F60F4B3D7FA2AF80: public key \"cudatools <cudatools@nvidia.com>\" imported\n",
            "gpg: Total number processed: 1\n",
            "gpg:               imported: 1\n",
            "\n",
            "WARNING: apt does not have a stable CLI interface. Use with caution in scripts.\n",
            "\n",
            "W: http://developer.download.nvidia.com/devtools/repos/ubuntu2204/amd64/Release.gpg: Key is stored in legacy trusted.gpg keyring (/etc/apt/trusted.gpg), see the DEPRECATION section in apt-key(8) for details.\n",
            "W: Skipping acquire of configured file 'main/source/Sources' as repository 'https://r2u.stat.illinois.edu/ubuntu jammy InRelease' does not seem to provide it (sources.list entry misspelt?)\n",
            "\n",
            "WARNING: apt does not have a stable CLI interface. Use with caution in scripts.\n",
            "\n"
          ]
        }
      ]
    },
    {
      "cell_type": "markdown",
      "source": [
        "### Check the installation"
      ],
      "metadata": {
        "id": "X4G8VQTKZahi"
      }
    },
    {
      "cell_type": "code",
      "source": [
        "!nsys status -e"
      ],
      "metadata": {
        "colab": {
          "base_uri": "https://localhost:8080/"
        },
        "id": "oYBi9AFxge_z",
        "outputId": "a6b8f3dd-b3ec-41eb-ffad-9b3367aad9cb"
      },
      "execution_count": null,
      "outputs": [
        {
          "output_type": "stream",
          "name": "stdout",
          "text": [
            "Timestamp counter supported: Yes\n",
            "\n",
            "CPU Profiling Environment Check\n",
            "Root privilege: enabled\n",
            "Linux Kernel Paranoid Level = 2\n",
            "Linux Distribution = Ubuntu\n",
            "Linux Kernel Version = 6.1.85+: OK\n",
            "Linux perf_event_open syscall available: OK\n",
            "Sampling trigger event available: OK\n",
            "Intel(c) Last Branch Record support: Not Available\n",
            "CPU Profiling Environment (process-tree): OK\n",
            "CPU Profiling Environment (system-wide): OK\n",
            "\n",
            "See the product documentation at https://docs.nvidia.com/nsight-systems for more information,\n",
            "including information on how to set the Linux Kernel Paranoid Level.\n"
          ]
        }
      ]
    },
    {
      "cell_type": "code",
      "source": [
        "!which nsys"
      ],
      "metadata": {
        "colab": {
          "base_uri": "https://localhost:8080/"
        },
        "id": "Z-5bx2gZCfzW",
        "outputId": "81b2387f-f338-4fbd-a02b-242517252e2f"
      },
      "execution_count": null,
      "outputs": [
        {
          "output_type": "stream",
          "name": "stdout",
          "text": [
            "/usr/local/bin/nsys\n"
          ]
        }
      ]
    },
    {
      "cell_type": "code",
      "source": [
        "!ls /usr/local/bin/nsys/*"
      ],
      "metadata": {
        "colab": {
          "base_uri": "https://localhost:8080/"
        },
        "id": "nGrlWtaOCawF",
        "outputId": "92997bec-d3a6-49d1-a3eb-bdd5c7177688"
      },
      "execution_count": null,
      "outputs": [
        {
          "output_type": "stream",
          "name": "stdout",
          "text": [
            "ls: cannot access '/usr/local/bin/nsys/*': Not a directory\n"
          ]
        }
      ]
    },
    {
      "cell_type": "code",
      "source": [
        "!~/usr/local/bin/nsys/host-linux-x64/Scripts/WebRTCContainer/build.sh\n"
      ],
      "metadata": {
        "colab": {
          "base_uri": "https://localhost:8080/"
        },
        "id": "fI5CIbK_CZ5Y",
        "outputId": "399da440-fae8-4896-f1ee-7bf6afd9a77f"
      },
      "execution_count": null,
      "outputs": [
        {
          "output_type": "stream",
          "name": "stdout",
          "text": [
            "/bin/bash: line 1: /root/usr/local/bin/nsys/host-linux-x64/Scripts/WebRTCContainer/build.sh: No such file or directory\n"
          ]
        }
      ]
    },
    {
      "cell_type": "markdown",
      "source": [],
      "metadata": {
        "id": "ABiw_TUDZBbO"
      }
    },
    {
      "cell_type": "code",
      "source": [
        "!python3 -m pip install -r nsys_recipe/requirements/dask.txt -r nsys_recipe/requirements/common.txt -r nsys_recipe/requirements/jupyter.txt"
      ],
      "metadata": {
        "colab": {
          "base_uri": "https://localhost:8080/"
        },
        "id": "uPIajQuJg-W4",
        "outputId": "73a9e243-d145-4b1f-c657-cb72b8ab948c"
      },
      "execution_count": null,
      "outputs": [
        {
          "output_type": "stream",
          "name": "stdout",
          "text": [
            "\u001b[31mERROR: Could not open requirements file: [Errno 2] No such file or directory: 'nsys_recipe/requirements/dask.txt'\u001b[0m\u001b[31m\n",
            "\u001b[0m"
          ]
        }
      ]
    },
    {
      "cell_type": "markdown",
      "source": [
        "### Simple attention"
      ],
      "metadata": {
        "id": "752oqalcZg0N"
      }
    },
    {
      "cell_type": "code",
      "source": [
        "%%writefile profiler.py\n",
        "\n",
        "import torch\n",
        "import torch.nn as nn\n",
        "\n",
        "class SimpleAttention(nn.Module):\n",
        "    def __init__(self, embed_dim):\n",
        "        super().__init__()\n",
        "        self.query = nn.Linear(embed_dim, embed_dim)\n",
        "        self.key = nn.Linear(embed_dim, embed_dim)\n",
        "        self.value = nn.Linear(embed_dim, embed_dim)\n",
        "\n",
        "    def forward(self, x):\n",
        "        q = self.query(x)\n",
        "        k = self.key(x)\n",
        "        v = self.value(x)\n",
        "\n",
        "        attn_weights = torch.matmul(q, k.transpose(-2, -1))\n",
        "        attn_weights = torch.softmax(attn_weights, dim=-1)\n",
        "\n",
        "        return torch.matmul(attn_weights, v)\n",
        "\n",
        "class SimpleTransformer(nn.Module):\n",
        "    def __init__(self, embed_dim, num_heads):\n",
        "        super().__init__()\n",
        "        self.attention = SimpleAttention(embed_dim)\n",
        "        self.norm = nn.LayerNorm(embed_dim)\n",
        "\n",
        "    def forward(self, x):\n",
        "        attn_output = self.attention(x)\n",
        "        return self.norm(x + attn_output)\n",
        "\n",
        "# Create a model and sample input\n",
        "embed_dim = 256\n",
        "seq_length = 100\n",
        "batch_size = 32\n",
        "\n",
        "model = SimpleTransformer(embed_dim, num_heads=1).cuda()\n",
        "sample_input = torch.randn(batch_size, seq_length, embed_dim).cuda()\n",
        "\n",
        "import torch.cuda.profiler as profiler\n",
        "\n",
        "# Warm-up run\n",
        "model(sample_input)\n",
        "\n",
        "# Profile the model\n",
        "with profiler.profile(activities=[profiler.ProfilerActivity.CPU, profiler.ProfilerActivity.CUDA], record_shapes=True, profile_memory=True, with_stack=True) as prof:\n",
        "    with profiler.record_function(\"model_inference\"):\n",
        "        model(sample_input)\n",
        "\n",
        "# Print profiling results\n",
        "print(prof.key_averages().table(sort_by=\"cuda_time_total\", row_limit=10))"
      ],
      "metadata": {
        "colab": {
          "base_uri": "https://localhost:8080/"
        },
        "id": "umRsmc9BhDNI",
        "outputId": "3deaf056-ac4d-426d-897a-8a9c638ba8be"
      },
      "execution_count": null,
      "outputs": [
        {
          "output_type": "stream",
          "name": "stdout",
          "text": [
            "Writing profiler.py\n"
          ]
        }
      ]
    },
    {
      "cell_type": "code",
      "source": [
        "# %%writefile profiler.py\n",
        "\n",
        "# import torch.cuda.profiler as profiler\n",
        "\n",
        "# # Warm-up run\n",
        "# model(sample_input)\n",
        "\n",
        "# # Profile the model\n",
        "# with profiler.profile(activities=[profiler.ProfilerActivity.CPU, profiler.ProfilerActivity.CUDA], record_shapes=True, profile_memory=True, with_stack=True) as prof:\n",
        "#     with profiler.record_function(\"model_inference\"):\n",
        "#         model(sample_input)\n",
        "\n",
        "# # Print profiling results\n",
        "# print(prof.key_averages().table(sort_by=\"cuda_time_total\", row_limit=10))"
      ],
      "metadata": {
        "id": "xsieasCKhe8X"
      },
      "execution_count": null,
      "outputs": []
    },
    {
      "cell_type": "code",
      "source": [
        "!nsys profile --stats=true python profiler.py"
      ],
      "metadata": {
        "colab": {
          "base_uri": "https://localhost:8080/"
        },
        "id": "897bBEYahU-X",
        "outputId": "c7c15809-2a8e-487a-f317-e5a542e3af31"
      },
      "execution_count": null,
      "outputs": [
        {
          "output_type": "stream",
          "name": "stdout",
          "text": [
            "Collecting data...\n",
            "Traceback (most recent call last):\n",
            "  File \"/content/profiler.py\", line 46, in <module>\n",
            "    with profiler.profile(activities=[profiler.ProfilerActivity.CPU, profiler.ProfilerActivity.CUDA], record_shapes=True, profile_memory=True, with_stack=True) as prof:\n",
            "AttributeError: module 'torch.cuda.profiler' has no attribute 'ProfilerActivity'\n",
            "Generating '/tmp/nsys-report-bb08.qdstrm'\n",
            "[1/8] [========================100%] report1.nsys-rep\n",
            "[2/8] [========================100%] report1.sqlite\n",
            "[3/8] Executing 'nvtx_sum' stats report\n",
            "SKIPPED: /content/report1.sqlite does not contain NV Tools Extension (NVTX) data.\n",
            "[4/8] Executing 'osrt_sum' stats report\n",
            "\n",
            " Time (%)  Total Time (ns)  Num Calls    Avg (ns)      Med (ns)    Min (ns)    Max (ns)    StdDev (ns)            Name         \n",
            " --------  ---------------  ---------  ------------  ------------  ---------  -----------  ------------  ----------------------\n",
            "     71.3    1,704,872,972         29  58,788,723.2  87,113,249.0      4,498  100,206,738  45,647,092.7  poll                  \n",
            "     14.4      343,925,209      1,676     205,206.0       3,703.5      1,002   11,895,590     657,136.8  read                  \n",
            "      7.2      172,463,023        615     280,427.7      12,667.0      1,015  117,596,666   4,772,160.4  ioctl                 \n",
            "      3.7       87,307,314      5,793      15,071.2       3,313.0      1,019   10,294,187     197,401.3  stat64                \n",
            "      2.1       51,135,991        989      51,704.7      14,496.0      3,026    2,967,251     187,126.5  open64                \n",
            "      0.5       12,035,887      7,043       1,708.9       1,602.0      1,000       19,596         878.9  lstat64               \n",
            "      0.3        7,083,460      1,849       3,831.0       1,965.0      1,138    3,034,341      70,529.8  fstat64               \n",
            "      0.2        5,095,563          1   5,095,563.0   5,095,563.0  5,095,563    5,095,563           0.0  nanosleep             \n",
            "      0.1        2,885,764         75      38,476.9      11,855.0      5,617    1,449,338     166,519.3  mmap64                \n",
            "      0.0          750,802         11      68,254.7      49,408.0     26,403      214,787      52,674.8  sem_timedwait         \n",
            "      0.0          544,689         74       7,360.7       4,413.5      1,973      151,752      17,283.1  fopen                 \n",
            "      0.0          373,953          8      46,744.1      48,731.0     20,765       71,091      14,625.6  fgets                 \n",
            "      0.0          330,885         20      16,544.3       8,901.5      4,133       88,914      19,936.1  mmap                  \n",
            "      0.0          222,554          3      74,184.7      74,175.0     67,817       80,562       6,372.5  sleep                 \n",
            "      0.0          187,196         69       2,713.0       2,184.0      1,071       18,442       2,632.1  fclose                \n",
            "      0.0          153,995          2      76,997.5      76,997.5     71,500       82,495       7,774.6  pthread_create        \n",
            "      0.0          119,601          9      13,289.0      12,908.0      6,192       20,908       5,401.8  munmap                \n",
            "      0.0          114,751         15       7,650.1       5,195.0      2,124       30,054       6,775.7  open                  \n",
            "      0.0          100,309         10      10,030.9       9,281.5      1,388       23,866       7,648.7  pthread_cond_signal   \n",
            "      0.0           86,846         16       5,427.9       5,615.5      1,262       11,984       2,909.5  write                 \n",
            "      0.0           42,150          5       8,430.0       7,045.0      2,793       17,132       5,285.6  fopen64               \n",
            "      0.0           25,740          2      12,870.0      12,870.0     10,382       15,358       3,518.6  socket                \n",
            "      0.0           12,127          1      12,127.0      12,127.0     12,127       12,127           0.0  connect               \n",
            "      0.0           10,374          1      10,374.0      10,374.0     10,374       10,374           0.0  pipe2                 \n",
            "      0.0            9,319          2       4,659.5       4,659.5      1,432        7,887       4,564.4  getc                  \n",
            "      0.0            7,505          6       1,250.8       1,260.5      1,016        1,504         179.0  fcntl                 \n",
            "      0.0            6,690          1       6,690.0       6,690.0      6,690        6,690           0.0  fread                 \n",
            "      0.0            6,643          4       1,660.8       1,543.0      1,460        2,097         295.3  fflush                \n",
            "      0.0            4,725          2       2,362.5       2,362.5      2,076        2,649         405.2  sigaction             \n",
            "      0.0            3,999          1       3,999.0       3,999.0      3,999        3,999           0.0  fputs_unlocked        \n",
            "      0.0            3,058          1       3,058.0       3,058.0      3,058        3,058           0.0  bind                  \n",
            "      0.0            2,695          2       1,347.5       1,347.5      1,095        1,600         357.1  fcntl64               \n",
            "      0.0            1,637          1       1,637.0       1,637.0      1,637        1,637           0.0  dup                   \n",
            "      0.0            1,552          1       1,552.0       1,552.0      1,552        1,552           0.0  pthread_mutex_trylock \n",
            "      0.0            1,441          1       1,441.0       1,441.0      1,441        1,441           0.0  listen                \n",
            "      0.0            1,033          1       1,033.0       1,033.0      1,033        1,033           0.0  pthread_cond_broadcast\n",
            "\n",
            "[5/8] Executing 'cuda_api_sum' stats report\n",
            "\n",
            " Time (%)  Total Time (ns)  Num Calls    Avg (ns)      Med (ns)    Min (ns)    Max (ns)   StdDev (ns)               Name            \n",
            " --------  ---------------  ---------  ------------  ------------  ---------  ----------  ------------  ----------------------------\n",
            "     58.2      111,334,983          8  13,916,872.9      28,731.0     15,352  57,579,581  23,618,066.2  cudaLaunchKernel            \n",
            "     20.1       38,424,034          2  19,212,017.0  19,212,017.0  3,115,530  35,308,504  22,763,870.2  cudaFree                    \n",
            "     19.2       36,690,740          9   4,076,748.9      23,936.0      4,280  35,794,831  11,896,535.2  cudaMemcpyAsync             \n",
            "      1.0        1,866,658          6     311,109.7     222,068.0     11,070     954,974     335,428.8  cudaMalloc                  \n",
            "      0.8        1,613,191         18      89,621.7         383.0        355   1,601,181     377,236.2  cudaEventCreateWithFlags    \n",
            "      0.4          826,621          3     275,540.3       3,458.0      2,754     820,409     471,870.2  cudaStreamIsCapturing_v10000\n",
            "      0.2          365,803      1,149         318.4         208.0         90      54,985       1,706.5  cuGetProcAddress_v2         \n",
            "      0.1          181,159          9      20,128.8       7,837.0      5,773      71,243      21,570.4  cudaStreamSynchronize       \n",
            "      0.0            7,191          3       2,397.0       2,406.0      2,052       2,733         340.6  cuInit                      \n",
            "      0.0            2,000          4         500.0         279.0        240       1,202         468.6  cuModuleGetLoadingMode      \n",
            "\n",
            "[6/8] Executing 'cuda_gpu_kern_sum' stats report\n",
            "\n",
            " Time (%)  Total Time (ns)  Instances  Avg (ns)   Med (ns)   Min (ns)  Max (ns)  StdDev (ns)                                                  Name                                                \n",
            " --------  ---------------  ---------  ---------  ---------  --------  --------  -----------  ----------------------------------------------------------------------------------------------------\n",
            "     61.9          633,457          3  211,152.3  211,163.0   210,811   211,483        336.1  volta_sgemm_128x64_tn                                                                               \n",
            "     14.3          145,981          1  145,981.0  145,981.0   145,981   145,981          0.0  volta_sgemm_64x64_tn                                                                                \n",
            "     11.2          114,749          1  114,749.0  114,749.0   114,749   114,749          0.0  volta_sgemm_128x64_nn                                                                               \n",
            "      8.0           82,270          1   82,270.0   82,270.0    82,270    82,270          0.0  void at::native::<unnamed>::vectorized_layer_norm_kernel<float, float>(int, T2, const T1 *, const T…\n",
            "      3.2           32,287          1   32,287.0   32,287.0    32,287    32,287          0.0  void at::native::vectorized_elementwise_kernel<(int)4, at::native::CUDAFunctor_add<float>, at::deta…\n",
            "      1.4           13,824          1   13,824.0   13,824.0    13,824    13,824          0.0  void <unnamed>::softmax_warp_forward<float, float, float, (int)7, (bool)0, (bool)0>(T2 *, const T1 …\n",
            "\n",
            "[7/8] Executing 'cuda_gpu_mem_time_sum' stats report\n",
            "\n",
            " Time (%)  Total Time (ns)  Count  Avg (ns)  Med (ns)  Min (ns)  Max (ns)  StdDev (ns)           Operation          \n",
            " --------  ---------------  -----  --------  --------  --------  --------  -----------  ----------------------------\n",
            "    100.0          621,586      9  69,065.1     768.0       736   545,971    179,191.3  [CUDA memcpy Host-to-Device]\n",
            "\n",
            "[8/8] Executing 'cuda_gpu_mem_size_sum' stats report\n",
            "\n",
            " Total (MB)  Count  Avg (MB)  Med (MB)  Min (MB)  Max (MB)  StdDev (MB)           Operation          \n",
            " ----------  -----  --------  --------  --------  --------  -----------  ----------------------------\n",
            "      4.068      9     0.452     0.001     0.001     3.277        1.067  [CUDA memcpy Host-to-Device]\n",
            "\n",
            "Generated:\n",
            "    /content/report1.nsys-rep\n",
            "    /content/report1.sqlite\n"
          ]
        }
      ]
    },
    {
      "cell_type": "markdown",
      "source": [
        "Let's analyze the \"cuda_gpu_kern_sum\" report, which shows the GPU kernel executions:\n",
        "\n",
        "* `volta_sgemm_128x64_tn` (61.9% of GPU time):\n",
        "This is likely the matrix multiplication for computing attention weights (q * k.transpose(-2, -1)). It's using NVIDIA's optimized GEMM (General Matrix Multiplication) kernel.\n",
        "\n",
        "* `volta_sgemm_64x64_tn` (14.2% of GPU time):\n",
        "This could be another part of the attention computation, possibly the final matrix multiplication with the value matrix (attn_weights * v).\n",
        "\n",
        "* `volta_sgemm_128x64_nn` (11.3% of GPU time):\n",
        "This might be the matrix multiplication in one of the linear layers (query, key, or value projection).\n",
        "\n",
        "* `vectorized_layer_norm_kernel` (8.1% of GPU time):\n",
        "This corresponds to the LayerNorm operation in the SimpleTransformer class.\n",
        "vectorized_elementwise_kernel (3.1% of GPU time):\n",
        "This could be the element-wise addition in the residual connection (x + attn_output).\n",
        "\n",
        "* `softmax_warp_forward` (1.4% of GPU time):\n",
        "This is the softmax operation applied to the attention weights.\n",
        "\n",
        "The `SimpleAttention` class operations are primarily represented by items 1, 2, 3, and 6 in this list. These operations account for about 88.8% of the GPU kernel execution time, which indicates that the attention mechanism is indeed a significant part of the computation.\n",
        "To optimize this, we could:\n",
        "\n",
        "Use the optimized attention mechanism as suggested in the tutorial (torch.nn.functional.scaled_dot_product_attention).\n",
        "Experiment with different batch sizes or sequence lengths to find the optimal configuration for your hardware.\n",
        "Consider using mixed precision (float16) if your GPU supports it, which can speed up matrix multiplications significantly."
      ],
      "metadata": {
        "id": "yKuvjnE7iXPA"
      }
    },
    {
      "cell_type": "markdown",
      "source": [
        "Let's optimize our attention mechanism to use the `torch.nn.functional.scaled_dot_product_attention` function, optimized for GPUs. This method uses the Flash Attention algorithm when available."
      ],
      "metadata": {
        "id": "N6N9O32EisyQ"
      }
    },
    {
      "cell_type": "code",
      "source": [
        "%%writefile profiler.py\n",
        "\n",
        "import torch\n",
        "import torch.nn as nn\n",
        "\n",
        "import torch.nn.functional as F\n",
        "\n",
        "class OptimizedAttention(nn.Module):\n",
        "    def __init__(self, embed_dim):\n",
        "        super().__init__()\n",
        "        self.query = nn.Linear(embed_dim, embed_dim)\n",
        "        self.key = nn.Linear(embed_dim, embed_dim)\n",
        "        self.value = nn.Linear(embed_dim, embed_dim)\n",
        "        self.scale = embed_dim ** -0.5\n",
        "\n",
        "    def forward(self, x):\n",
        "        q = self.query(x)\n",
        "        k = self.key(x)\n",
        "        v = self.value(x)\n",
        "\n",
        "        return F.scaled_dot_product_attention(q, k, v, scale=self.scale)\n",
        "\n",
        "# Update the SimpleTransformer class to use OptimizedAttention\n",
        "class OptimizedTransformer(nn.Module):\n",
        "    def __init__(self, embed_dim, num_heads):\n",
        "        super().__init__()\n",
        "        self.attention = OptimizedAttention(embed_dim)\n",
        "        self.norm = nn.LayerNorm(embed_dim)\n",
        "\n",
        "    def forward(self, x):\n",
        "        attn_output = self.attention(x)\n",
        "        return self.norm(x + attn_output)\n",
        "\n",
        "# Create a model and sample input\n",
        "embed_dim = 256\n",
        "seq_length = 1000\n",
        "batch_size = 32\n",
        "\n",
        "# Create a new model with the optimized attention\n",
        "optimized_model = OptimizedTransformer(embed_dim, num_heads=1).cuda()\n",
        "sample_input = torch.randn(batch_size, seq_length, embed_dim).cuda()\n",
        "\n",
        "import torch.cuda.profiler as profiler\n",
        "\n",
        "# Warm-up run\n",
        "optimized_model(sample_input)\n",
        "\n",
        "# Profile the optimized model\n",
        "with profiler.profile(activities=[profiler.ProfilerActivity.CPU, profiler.ProfilerActivity.CUDA], record_shapes=True, profile_memory=True, with_stack=True) as prof:\n",
        "    with profiler.record_function(\"optimized_model_inference\"):\n",
        "        optimized_model(sample_input)\n",
        "\n",
        "# Print profiling results\n",
        "print(prof.key_averages().table(sort_by=\"cuda_time_total\", row_limit=10))"
      ],
      "metadata": {
        "colab": {
          "base_uri": "https://localhost:8080/"
        },
        "id": "TfdihiNbhiBv",
        "outputId": "96454fdc-cc8c-4fbb-e588-904628ffda16"
      },
      "execution_count": null,
      "outputs": [
        {
          "output_type": "stream",
          "name": "stdout",
          "text": [
            "Overwriting profiler.py\n"
          ]
        }
      ]
    },
    {
      "cell_type": "code",
      "source": [
        "!nsys profile --stats=true python profiler.py"
      ],
      "metadata": {
        "colab": {
          "base_uri": "https://localhost:8080/"
        },
        "id": "WwuFghLIjIZP",
        "outputId": "19d75557-ba6b-4537-dbd0-f44b5c5ffcea"
      },
      "execution_count": null,
      "outputs": [
        {
          "output_type": "stream",
          "name": "stdout",
          "text": [
            "Collecting data...\n",
            "Traceback (most recent call last):\n",
            "  File \"/content/profiler.py\", line 48, in <module>\n",
            "    with profiler.profile(activities=[profiler.ProfilerActivity.CPU, profiler.ProfilerActivity.CUDA], record_shapes=True, profile_memory=True, with_stack=True) as prof:\n",
            "AttributeError: module 'torch.cuda.profiler' has no attribute 'ProfilerActivity'\n",
            "Generating '/tmp/nsys-report-b584.qdstrm'\n",
            "[1/8] [========================100%] report4.nsys-rep\n",
            "[2/8] [========================100%] report4.sqlite\n",
            "[3/8] Executing 'nvtx_sum' stats report\n",
            "SKIPPED: /content/report4.sqlite does not contain NV Tools Extension (NVTX) data.\n",
            "[4/8] Executing 'osrt_sum' stats report\n",
            "\n",
            " Time (%)  Total Time (ns)  Num Calls    Avg (ns)      Med (ns)    Min (ns)    Max (ns)    StdDev (ns)            Name         \n",
            " --------  ---------------  ---------  ------------  ------------  ---------  -----------  ------------  ----------------------\n",
            "     74.8      702,195,796         19  36,957,673.5  10,082,824.0      3,989  100,181,256  42,773,008.7  poll                  \n",
            "     18.5      173,734,209        640     271,459.7      13,584.0      1,007  111,236,357   4,454,550.6  ioctl                 \n",
            "      2.2       20,255,745      5,787       3,500.2       2,692.0      1,000       72,902       2,689.2  stat64                \n",
            "      1.2       11,610,605      6,877       1,688.3       1,568.0      1,000       22,068         987.8  lstat64               \n",
            "      0.9        7,996,445        989       8,085.4       7,542.0      2,118       35,714       2,934.8  open64                \n",
            "      0.8        7,710,916      1,095       7,041.9       2,644.0      1,036      231,173      15,193.8  read                  \n",
            "      0.5        5,074,564          1   5,074,564.0   5,074,564.0  5,074,564    5,074,564           0.0  nanosleep             \n",
            "      0.4        3,910,183         75      52,135.8      13,195.0      6,150    2,441,069     280,388.0  mmap64                \n",
            "      0.4        3,667,054      1,848       1,984.3       1,771.0      1,019       19,409       1,282.4  fstat64               \n",
            "      0.1          503,174          7      71,882.0      69,154.0     53,992       93,626      12,525.2  sem_timedwait         \n",
            "      0.0          399,121         27      14,782.3       8,334.0      2,727      136,079      24,945.9  mmap                  \n",
            "      0.0          378,724         74       5,117.9       3,432.5      1,798       43,939       5,379.3  fopen                 \n",
            "      0.0          307,478          8      38,434.8      35,381.0     12,628       82,509      19,828.7  fgets                 \n",
            "      0.0          191,203          3      63,734.3      59,937.0     56,830       74,436       9,397.2  sleep                 \n",
            "      0.0          175,714         16      10,982.1       9,905.0      6,341       22,617       3,901.3  munmap                \n",
            "      0.0          157,814         15      10,520.9       6,616.0      1,260       41,327       9,865.8  write                 \n",
            "      0.0          151,325         70       2,161.8       1,601.5      1,044       19,493       2,290.1  fclose                \n",
            "      0.0          141,619          2      70,809.5      70,809.5     59,605       82,014      15,845.6  pthread_create        \n",
            "      0.0           87,803         15       5,853.5       4,308.0      2,258       18,784       4,377.0  open                  \n",
            "      0.0           66,705          7       9,529.3       4,572.0      1,849       22,790       8,437.0  pthread_cond_signal   \n",
            "      0.0           39,150          5       7,830.0       5,607.0      1,660       19,171       6,729.2  fopen64               \n",
            "      0.0           25,789          2      12,894.5      12,894.5      9,532       16,257       4,755.3  socket                \n",
            "      0.0           25,418          2      12,709.0      12,709.0      9,758       15,660       4,173.3  pthread_cond_broadcast\n",
            "      0.0           20,204          4       5,051.0       1,061.5      1,053       17,028       7,984.7  fcntl                 \n",
            "      0.0           13,705          1      13,705.0      13,705.0     13,705       13,705           0.0  connect               \n",
            "      0.0           12,824          2       6,412.0       6,412.0      2,147       10,677       6,031.6  getc                  \n",
            "      0.0            9,646          1       9,646.0       9,646.0      9,646        9,646           0.0  pipe2                 \n",
            "      0.0            8,938          1       8,938.0       8,938.0      8,938        8,938           0.0  fread                 \n",
            "      0.0            6,413          3       2,137.7       2,142.0      1,965        2,306         170.5  sigaction             \n",
            "      0.0            2,960          2       1,480.0       1,480.0      1,066        1,894         585.5  fflush                \n",
            "      0.0            2,599          2       1,299.5       1,299.5      1,126        1,473         245.4  fcntl64               \n",
            "      0.0            2,436          1       2,436.0       2,436.0      2,436        2,436           0.0  fputs_unlocked        \n",
            "      0.0            2,283          1       2,283.0       2,283.0      2,283        2,283           0.0  bind                  \n",
            "      0.0            1,463          1       1,463.0       1,463.0      1,463        1,463           0.0  listen                \n",
            "      0.0            1,126          1       1,126.0       1,126.0      1,126        1,126           0.0  dup                   \n",
            "\n",
            "[5/8] Executing 'cuda_api_sum' stats report\n",
            "\n",
            " Time (%)  Total Time (ns)  Num Calls   Avg (ns)     Med (ns)    Min (ns)    Max (ns)   StdDev (ns)               Name            \n",
            " --------  ---------------  ---------  -----------  -----------  ---------  ----------  ------------  ----------------------------\n",
            "     58.7       63,580,709         10  6,358,070.9     27,551.0     14,159  32,709,097  11,069,426.3  cudaLaunchKernel            \n",
            "     23.4       25,352,667          9  2,816,963.0     20,210.0      4,067  18,087,874   6,185,425.7  cudaMemcpyAsync             \n",
            "     15.1       16,317,071          2  8,158,535.5  8,158,535.5  2,343,002  13,974,069   8,224,406.3  cudaFree                    \n",
            "      2.4        2,640,231         13    203,094.7    216,453.0      6,731     372,183      96,359.3  cudaMalloc                  \n",
            "      0.2          247,158      1,149        215.1        171.0         87      11,234         412.4  cuGetProcAddress_v2         \n",
            "      0.1          158,159          9     17,573.2      6,731.0      6,053      47,601      15,033.0  cudaStreamSynchronize       \n",
            "      0.0           28,232         10      2,823.2      1,832.5      1,158       8,921       2,409.8  cudaStreamIsCapturing_v10000\n",
            "      0.0           27,052         18      1,502.9        453.5        388      14,908       3,414.5  cudaEventCreateWithFlags    \n",
            "      0.0            4,981          3      1,660.3      1,666.0      1,457       1,858         200.6  cuInit                      \n",
            "      0.0            1,649          4        412.3        265.0        218         901         327.4  cuModuleGetLoadingMode      \n",
            "\n",
            "[6/8] Executing 'cuda_gpu_kern_sum' stats report\n",
            "\n",
            " Time (%)  Total Time (ns)  Instances   Avg (ns)     Med (ns)    Min (ns)   Max (ns)   StdDev (ns)                                                  Name                                                \n",
            " --------  ---------------  ---------  -----------  -----------  ---------  ---------  -----------  ----------------------------------------------------------------------------------------------------\n",
            "     57.6       11,834,284          4  2,958,571.0  1,715,576.0  1,706,968  6,696,164  2,491,732.2  volta_sgemm_128x64_tn                                                                               \n",
            "     28.4        5,835,224          1  5,835,224.0  5,835,224.0  5,835,224  5,835,224          0.0  volta_sgemm_128x64_nn                                                                               \n",
            "      5.8        1,199,588          1  1,199,588.0  1,199,588.0  1,199,588  1,199,588          0.0  void <unnamed>::softmax_warp_forward<float, float, float, (int)10, (bool)0, (bool)0>(T2 *, const T1…\n",
            "      3.7          765,103          1    765,103.0    765,103.0    765,103    765,103          0.0  void at::native::<unnamed>::vectorized_layer_norm_kernel<float, float>(int, T2, const T1 *, const T…\n",
            "      2.6          532,307          2    266,153.5    266,153.5    262,586    269,721      5,045.2  void at::native::vectorized_elementwise_kernel<(int)4, at::native::AUnaryFunctor<float, float, floa…\n",
            "      1.9          388,695          1    388,695.0    388,695.0    388,695    388,695          0.0  void at::native::vectorized_elementwise_kernel<(int)4, at::native::CUDAFunctor_add<float>, at::deta…\n",
            "\n",
            "[7/8] Executing 'cuda_gpu_mem_time_sum' stats report\n",
            "\n",
            " Time (%)  Total Time (ns)  Count  Avg (ns)   Med (ns)  Min (ns)  Max (ns)   StdDev (ns)           Operation          \n",
            " --------  ---------------  -----  ---------  --------  --------  ---------  -----------  ----------------------------\n",
            "    100.0        6,940,575      9  771,175.0     769.0       736  6,864,704  2,285,101.1  [CUDA memcpy Host-to-Device]\n",
            "\n",
            "[8/8] Executing 'cuda_gpu_mem_size_sum' stats report\n",
            "\n",
            " Total (MB)  Count  Avg (MB)  Med (MB)  Min (MB)  Max (MB)  StdDev (MB)           Operation          \n",
            " ----------  -----  --------  --------  --------  --------  -----------  ----------------------------\n",
            "     33.560      9     3.729     0.001     0.001    32.768       10.890  [CUDA memcpy Host-to-Device]\n",
            "\n",
            "Generated:\n",
            "    /content/report4.nsys-rep\n",
            "    /content/report4.sqlite\n"
          ]
        }
      ]
    },
    {
      "cell_type": "markdown",
      "source": [
        "Looking at the \"cuda_gpu_kern_sum\" report, we notice:\n",
        "\n",
        "volta_sgemm_128x64_tn (58.4% of GPU time, previously 61.9%):\n",
        "This is still likely the matrix multiplication for computing attention weights.\n",
        "volta_sgemm_64x64_tn (13.3%, previously 14.2%):\n",
        "This remains as another part of the attention computation, possibly the final matrix multiplication with the value matrix.\n",
        "volta_sgemm_128x64_nn (10.6%, previously 11.3%):\n",
        "This is still likely one of the linear layer matrix multiplications.\n",
        "vectorized_layer_norm_kernel (7.7%, previously 8.1%):\n",
        "This corresponds to the LayerNorm operation in the SimpleTransformer class.\n",
        "vectorized_elementwise_kernel (4.7% + 3.9% = 8.6%, previously 3.1%):\n",
        "This now appears as two separate kernels, possibly for different elementwise operations.\n",
        "softmax_warp_forward (1.3%, previously 1.4%):\n",
        "This is still the softmax operation applied to the attention weights."
      ],
      "metadata": {
        "id": "LeTI9UATj8kg"
      }
    },
    {
      "cell_type": "code",
      "source": [],
      "metadata": {
        "id": "J8wdmEuGjNO-"
      },
      "execution_count": null,
      "outputs": []
    }
  ]
}